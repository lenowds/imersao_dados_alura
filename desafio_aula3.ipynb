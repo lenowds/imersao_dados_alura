{
 "metadata": {
  "language_info": {
   "codemirror_mode": {
    "name": "ipython",
    "version": 3
   },
   "file_extension": ".py",
   "mimetype": "text/x-python",
   "name": "python",
   "nbconvert_exporter": "python",
   "pygments_lexer": "ipython3",
   "version": 3
  },
  "orig_nbformat": 2
 },
 "nbformat": 4,
 "nbformat_minor": 2,
 "cells": [
  {
   "source": [
    "### Terceiro Desafio da 3º Imerssão de Dados Alura"
   ],
   "cell_type": "markdown",
   "metadata": {}
  },
  {
   "source": [
    "Para esse desafio estou utilizando o dataset *dados_experimentos.zip* disponbilizado durante a imersão de dados. O dataset contém resultado de experimentos biogenéticos que foi proposto pela [Vanessa Leiko](https://www.linkedin.com/in/vanessa-leiko-oikawa-cardoso/).\n",
    "\n",
    "Cada linha deste dataset contém os experimentos realizados, onde pode ser observado na coluna **Tratamento** que alguns dos experimentos houve a exposição a droga e por determinado tempo conforme descreve a coluna **tempo**.\n",
    "\n",
    "Durante o experimentos houve diferentes dosagens e utilizado várias amostras de drogas conforme nota-se na coluna **droga**.\n",
    "\n",
    "Cada linha representa uma cultura de célula que foi exposta ao experimento, sendo submetido há algum tipo de droga para tal dosagem.\n",
    "\n",
    "Criado por Leniel dos Santos\n",
    "Adicione no [linkedin](https://www.linkedin.com/in/leniel-dos-santos-7813a924/)"
   ],
   "cell_type": "markdown",
   "metadata": {}
  },
  {
   "cell_type": "code",
   "execution_count": null,
   "metadata": {},
   "outputs": [],
   "source": [
    "# carregar as bibliotecas de sempre\n",
    "import pandas as pd\n",
    "import numpy as np\n",
    "import matplotlib.pyplot as plt\n",
    "import seaborn as sns"
   ]
  },
  {
   "cell_type": "code",
   "execution_count": null,
   "metadata": {},
   "outputs": [],
   "source": [
    "# Vamos carregar o dadaset de experimentos\n",
    "df = pd.read_csv('dados_experimentos.zip', compression='zip')"
   ]
  },
  {
   "cell_type": "code",
   "execution_count": null,
   "metadata": {},
   "outputs": [],
   "source": []
  },
  {
   "source": [
    "### Desafio 01: Criar tabelas de frequência com pandas.groupby()\n",
    "\n"
   ],
   "cell_type": "markdown",
   "metadata": {}
  },
  {
   "source": [
    "### Desafio 02: Normalizar o crosstab pela coluna.\n",
    "\n"
   ],
   "cell_type": "markdown",
   "metadata": {}
  },
  {
   "source": [
    "### Desafio 03: Explorar outros agregadores.\n",
    "\n"
   ],
   "cell_type": "markdown",
   "metadata": {}
  },
  {
   "source": [
    "### Desafio 04: Explorar o melt.\n",
    "\n"
   ],
   "cell_type": "markdown",
   "metadata": {}
  },
  {
   "source": [
    "### Desafio 05: Calcular e analisar a correlação entre G e C. Refletir sobre os efeitos biológicos.\n",
    "\n"
   ],
   "cell_type": "markdown",
   "metadata": {}
  },
  {
   "source": [
    "### Desafio 06: Estudar o código que plota a matriz de correlação (heatmap)\n",
    "\n"
   ],
   "cell_type": "markdown",
   "metadata": {}
  },
  {
   "source": [
    "### Desafio 07: Resumo do que você aprendeu com os dados"
   ],
   "cell_type": "markdown",
   "metadata": {}
  }
 ]
}